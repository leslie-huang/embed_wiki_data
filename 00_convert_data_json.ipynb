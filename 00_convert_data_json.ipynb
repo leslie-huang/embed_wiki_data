{
 "cells": [
  {
   "cell_type": "code",
   "execution_count": 1,
   "metadata": {},
   "outputs": [],
   "source": [
    "import csv\n",
    "import os\n",
    "import pandas as pd\n",
    "import re\n",
    "import sys\n",
    "from sqlalchemy import create_engine\n",
    "from sqlalchemy.orm import sessionmaker"
   ]
  },
  {
   "cell_type": "code",
   "execution_count": 2,
   "metadata": {},
   "outputs": [],
   "source": [
    "def process_json(dirname, fname):\n",
    "    temp_df = pd.read_json(os.path.join(dirname, fname), lines = True).drop([\"url\"], axis = 1).dropna().replace('\\n', ' ', regex=True)\n",
    "\n",
    "#     # Prepare label in fastText format\n",
    "#     temp_df[\"party\"] = ['__label__'+s for s in temp_df[\"party\"]]\n",
    "\n",
    "    return temp_df\n",
    "\n",
    "# Setup sql\n",
    "engine = create_engine('sqlite:///wikidb.db')\n",
    "\n",
    "session = sessionmaker()\n",
    "session.configure(bind=engine)\n",
    "s = session()"
   ]
  },
  {
   "cell_type": "code",
   "execution_count": 9,
   "metadata": {},
   "outputs": [],
   "source": [
    "dirnames = [\"data_extract/text/AA\", \"data_extract/text/AB\"]\n",
    "\n",
    "for dirname in dirnames:\n",
    "    for fname in os.listdir(dirname):\n",
    "        temp_df = process_json(dirname, fname)\n",
    "\n",
    "        temp_df.to_sql(\"wikidb\", con = engine, index = False, if_exists = \"append\", chunksize = 1000)\n",
    "\n",
    "    #     temp_df.to_csv(f'{os.path.basename(fname)}.txt', index=False, sep=' ', \n",
    "    #                    header=False, quoting=csv.QUOTE_NONE, quotechar=\"\", escapechar=\" \")\n",
    "\n",
    "        del temp_df\n",
    "\n",
    "    s.commit()"
   ]
  },
  {
   "cell_type": "code",
   "execution_count": 3,
   "metadata": {},
   "outputs": [
    {
     "data": {
      "text/html": [
       "<div>\n",
       "<style scoped>\n",
       "    .dataframe tbody tr th:only-of-type {\n",
       "        vertical-align: middle;\n",
       "    }\n",
       "\n",
       "    .dataframe tbody tr th {\n",
       "        vertical-align: top;\n",
       "    }\n",
       "\n",
       "    .dataframe thead th {\n",
       "        text-align: right;\n",
       "    }\n",
       "</style>\n",
       "<table border=\"1\" class=\"dataframe\">\n",
       "  <thead>\n",
       "    <tr style=\"text-align: right;\">\n",
       "      <th></th>\n",
       "      <th>COUNT(*)</th>\n",
       "    </tr>\n",
       "  </thead>\n",
       "  <tbody>\n",
       "    <tr>\n",
       "      <th>0</th>\n",
       "      <td>143411</td>\n",
       "    </tr>\n",
       "  </tbody>\n",
       "</table>\n",
       "</div>"
      ],
      "text/plain": [
       "   COUNT(*)\n",
       "0    143411"
      ]
     },
     "execution_count": 3,
     "metadata": {},
     "output_type": "execute_result"
    }
   ],
   "source": [
    "# Test that the db exists\n",
    "\n",
    "pd.read_sql_query(f'SELECT COUNT(*) FROM wikidb', engine)"
   ]
  },
  {
   "cell_type": "code",
   "execution_count": 5,
   "metadata": {},
   "outputs": [
    {
     "data": {
      "text/html": [
       "<div>\n",
       "<style scoped>\n",
       "    .dataframe tbody tr th:only-of-type {\n",
       "        vertical-align: middle;\n",
       "    }\n",
       "\n",
       "    .dataframe tbody tr th {\n",
       "        vertical-align: top;\n",
       "    }\n",
       "\n",
       "    .dataframe thead th {\n",
       "        text-align: right;\n",
       "    }\n",
       "</style>\n",
       "<table border=\"1\" class=\"dataframe\">\n",
       "  <thead>\n",
       "    <tr style=\"text-align: right;\">\n",
       "      <th></th>\n",
       "      <th>id</th>\n",
       "      <th>text</th>\n",
       "      <th>title</th>\n",
       "    </tr>\n",
       "  </thead>\n",
       "  <tbody>\n",
       "    <tr>\n",
       "      <th>0</th>\n",
       "      <td>303777</td>\n",
       "      <td>Virus classification  Virus classification is ...</td>\n",
       "      <td>Virus classification</td>\n",
       "    </tr>\n",
       "    <tr>\n",
       "      <th>1</th>\n",
       "      <td>303783</td>\n",
       "      <td>Enterovirus  Enteroviruses are a group of viru...</td>\n",
       "      <td>Enterovirus</td>\n",
       "    </tr>\n",
       "    <tr>\n",
       "      <th>2</th>\n",
       "      <td>303786</td>\n",
       "      <td>Explode (song)  \"Explode\" is a song recorded b...</td>\n",
       "      <td>Explode (song)</td>\n",
       "    </tr>\n",
       "    <tr>\n",
       "      <th>3</th>\n",
       "      <td>303789</td>\n",
       "      <td>Kingdom of Italy (1861–1946)  The Kingdom of I...</td>\n",
       "      <td>Kingdom of Italy (1861–1946)</td>\n",
       "    </tr>\n",
       "    <tr>\n",
       "      <th>4</th>\n",
       "      <td>303889</td>\n",
       "      <td>New Jersey Turnpike  The New Jersey Turnpike i...</td>\n",
       "      <td>New Jersey Turnpike</td>\n",
       "    </tr>\n",
       "    <tr>\n",
       "      <th>5</th>\n",
       "      <td>303919</td>\n",
       "      <td>Selectivity  Selectivity may refer to:</td>\n",
       "      <td>Selectivity</td>\n",
       "    </tr>\n",
       "    <tr>\n",
       "      <th>6</th>\n",
       "      <td>303932</td>\n",
       "      <td>Jordan at the Olympics  Jordan at the Olympics...</td>\n",
       "      <td>Jordan at the Olympics</td>\n",
       "    </tr>\n",
       "    <tr>\n",
       "      <th>7</th>\n",
       "      <td>303936</td>\n",
       "      <td>Kazakhstan at the Olympics  Kazakhstan was fir...</td>\n",
       "      <td>Kazakhstan at the Olympics</td>\n",
       "    </tr>\n",
       "    <tr>\n",
       "      <th>8</th>\n",
       "      <td>303938</td>\n",
       "      <td>North Korea at the Olympics  North Korea at th...</td>\n",
       "      <td>North Korea at the Olympics</td>\n",
       "    </tr>\n",
       "    <tr>\n",
       "      <th>9</th>\n",
       "      <td>303940</td>\n",
       "      <td>South Korea at the Olympics  South Korea at th...</td>\n",
       "      <td>South Korea at the Olympics</td>\n",
       "    </tr>\n",
       "  </tbody>\n",
       "</table>\n",
       "</div>"
      ],
      "text/plain": [
       "       id                                               text  \\\n",
       "0  303777  Virus classification  Virus classification is ...   \n",
       "1  303783  Enterovirus  Enteroviruses are a group of viru...   \n",
       "2  303786  Explode (song)  \"Explode\" is a song recorded b...   \n",
       "3  303789  Kingdom of Italy (1861–1946)  The Kingdom of I...   \n",
       "4  303889  New Jersey Turnpike  The New Jersey Turnpike i...   \n",
       "5  303919           Selectivity  Selectivity may refer to:     \n",
       "6  303932  Jordan at the Olympics  Jordan at the Olympics...   \n",
       "7  303936  Kazakhstan at the Olympics  Kazakhstan was fir...   \n",
       "8  303938  North Korea at the Olympics  North Korea at th...   \n",
       "9  303940  South Korea at the Olympics  South Korea at th...   \n",
       "\n",
       "                          title  \n",
       "0          Virus classification  \n",
       "1                   Enterovirus  \n",
       "2                Explode (song)  \n",
       "3  Kingdom of Italy (1861–1946)  \n",
       "4           New Jersey Turnpike  \n",
       "5                   Selectivity  \n",
       "6        Jordan at the Olympics  \n",
       "7    Kazakhstan at the Olympics  \n",
       "8   North Korea at the Olympics  \n",
       "9   South Korea at the Olympics  "
      ]
     },
     "execution_count": 5,
     "metadata": {},
     "output_type": "execute_result"
    }
   ],
   "source": [
    "pd.read_sql_query(f'SELECT * FROM wikidb LIMIT 10', engine)"
   ]
  },
  {
   "cell_type": "code",
   "execution_count": null,
   "metadata": {},
   "outputs": [],
   "source": []
  }
 ],
 "metadata": {
  "kernelspec": {
   "display_name": "Python 3",
   "language": "python",
   "name": "python3"
  },
  "language_info": {
   "codemirror_mode": {
    "name": "ipython",
    "version": 3
   },
   "file_extension": ".py",
   "mimetype": "text/x-python",
   "name": "python",
   "nbconvert_exporter": "python",
   "pygments_lexer": "ipython3",
   "version": "3.7.3"
  }
 },
 "nbformat": 4,
 "nbformat_minor": 2
}
