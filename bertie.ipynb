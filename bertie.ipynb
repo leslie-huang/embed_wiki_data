{
 "cells": [
  {
   "cell_type": "code",
   "execution_count": null,
   "metadata": {},
   "outputs": [],
   "source": [
    "# Use this to convert a downloaded BERT pretrained file\n",
    "# following these instructions: https://github.com/huggingface/pytorch-pretrained-BERT#bert-1\n",
    "\n",
    "# Get this script\n",
    "https://github.com/huggingface/pytorch-pretrained-BERT/blob/master/pytorch_pretrained_bert/convert_tf_checkpoint_to_pytorch.py\n",
    "\n",
    "# Run this in command line\n",
    "export BERT_BASE_DIR=/path/to/bert/uncased_L-12_H-768_A-12\n",
    "\n",
    "pytorch_pretrained_bert convert_tf_checkpoint_to_pytorch \\\n",
    "  $BERT_BASE_DIR/bert_model.ckpt \\\n",
    "  $BERT_BASE_DIR/bert_config.json \\\n",
    "  $BERT_BASE_DIR/pytorch_model.bin"
   ]
  },
  {
   "cell_type": "code",
   "execution_count": 2,
   "metadata": {},
   "outputs": [],
   "source": [
    "# model_dir = \"uncased_L-12_H-768_A-12/\"\n",
    "\n",
    "# vocab_file = model_dir + \"vocab.txt\"\n",
    "# bert_config_file = model_dir + \"bert_config.json\"\n",
    "# init_checkpoint = model_dir + \"bert_model.ckpt\"\n",
    "\n",
    "\n",
    "# input_file = \"input.txt\"\n",
    "# max_seq_length = 128\n",
    "# max_predictions_per_seq = 20\n",
    "\n",
    "# masked_lm_positions = [6]\n"
   ]
  },
  {
   "cell_type": "code",
   "execution_count": null,
   "metadata": {},
   "outputs": [],
   "source": [
    "# Command line using huggingface pytorch extract_features.py\n",
    "\n",
    "python3 pytorch_extract_features.py \\\n",
    "--input_file input.txt \\\n",
    "--output_file out.txt \\\n",
    "--bert_model uncased_L-12_H-768_A-12/\n",
    "\n",
    "# Generates each word's vector representation to output file."
   ]
  },
  {
   "cell_type": "code",
   "execution_count": null,
   "metadata": {},
   "outputs": [],
   "source": [
    "# Command line using google-research's extract_features.py\n",
    "\n",
    "# Don't forget to get modeling.py and tokenization.py\n",
    "# https://github.com/google-research/bert/blob/master/extract_features.py\n",
    "\n",
    "# Example\n",
    "\n",
    "echo 'Who was Jim Henson ? ||| Jim Henson was a puppeteer' > /tmp/input.txt\n",
    "\n",
    "python extract_features.py \\\n",
    "  --input_file=input.txt \\\n",
    "  --output_file=output.jsonl \\\n",
    "  --vocab_file=$BERT_BASE_DIR/vocab.txt \\\n",
    "  --bert_config_file=$BERT_BASE_DIR/bert_config.json \\\n",
    "  --init_checkpoint=$BERT_BASE_DIR/bert_model.ckpt \\\n",
    "  --layers=-1,-2,-3,-4 \\\n",
    "  --max_seq_length=128 \\\n",
    "  --batch_size=8"
   ]
  }
 ],
 "metadata": {
  "kernelspec": {
   "display_name": "Python 3",
   "language": "python",
   "name": "python3"
  },
  "language_info": {
   "codemirror_mode": {
    "name": "ipython",
    "version": 3
   },
   "file_extension": ".py",
   "mimetype": "text/x-python",
   "name": "python",
   "nbconvert_exporter": "python",
   "pygments_lexer": "ipython3",
   "version": "3.6.4"
  }
 },
 "nbformat": 4,
 "nbformat_minor": 2
}
