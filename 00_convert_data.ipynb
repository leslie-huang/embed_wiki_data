{
 "cells": [
  {
   "cell_type": "code",
   "execution_count": 2,
   "metadata": {},
   "outputs": [],
   "source": [
    "import csv\n",
    "import os\n",
    "import pandas as pd\n",
    "import re\n",
    "import sys\n",
    "from sqlalchemy import create_engine\n",
    "from sqlalchemy.orm import sessionmaker"
   ]
  },
  {
   "cell_type": "code",
   "execution_count": 3,
   "metadata": {},
   "outputs": [],
   "source": [
    "def process_json(dirname, fname):\n",
    "    temp_df = pd.read_json(os.path.join(dirname, fname), lines = True).drop([\"url\"], axis = 1).dropna().replace('\\n', ' ', regex=True)\n",
    "\n",
    "#     # Prepare label in fastText format\n",
    "#     temp_df[\"party\"] = ['__label__'+s for s in temp_df[\"party\"]]\n",
    "\n",
    "    return temp_df\n",
    "\n",
    "# Setup sql\n",
    "engine = create_engine('sqlite:///wikidb.db')\n",
    "\n",
    "session = sessionmaker()\n",
    "session.configure(bind=engine)\n",
    "s = session()"
   ]
  },
  {
   "cell_type": "code",
   "execution_count": 9,
   "metadata": {},
   "outputs": [],
   "source": [
    "dirnames = [\"data_extract/text/AA\", \"data_extract/text/AB\"]\n",
    "\n",
    "for dirname in dirnames:\n",
    "    for fname in os.listdir(dirname):\n",
    "        temp_df = process_json(dirname, fname)\n",
    "\n",
    "        temp_df.to_sql(\"wikidb\", con = engine, index = False, if_exists = \"append\", chunksize = 1000)\n",
    "\n",
    "    #     temp_df.to_csv(f'{os.path.basename(fname)}.txt', index=False, sep=' ', \n",
    "    #                    header=False, quoting=csv.QUOTE_NONE, quotechar=\"\", escapechar=\" \")\n",
    "\n",
    "        del temp_df\n",
    "\n",
    "    s.commit()"
   ]
  },
  {
   "cell_type": "code",
   "execution_count": 11,
   "metadata": {},
   "outputs": [
    {
     "data": {
      "text/html": [
       "<div>\n",
       "<style scoped>\n",
       "    .dataframe tbody tr th:only-of-type {\n",
       "        vertical-align: middle;\n",
       "    }\n",
       "\n",
       "    .dataframe tbody tr th {\n",
       "        vertical-align: top;\n",
       "    }\n",
       "\n",
       "    .dataframe thead th {\n",
       "        text-align: right;\n",
       "    }\n",
       "</style>\n",
       "<table border=\"1\" class=\"dataframe\">\n",
       "  <thead>\n",
       "    <tr style=\"text-align: right;\">\n",
       "      <th></th>\n",
       "      <th>COUNT(*)</th>\n",
       "    </tr>\n",
       "  </thead>\n",
       "  <tbody>\n",
       "    <tr>\n",
       "      <th>0</th>\n",
       "      <td>143411</td>\n",
       "    </tr>\n",
       "  </tbody>\n",
       "</table>\n",
       "</div>"
      ],
      "text/plain": [
       "   COUNT(*)\n",
       "0    143411"
      ]
     },
     "execution_count": 11,
     "metadata": {},
     "output_type": "execute_result"
    }
   ],
   "source": [
    "# Test that the db exists\n",
    "\n",
    "pd.read_sql_query(f'SELECT COUNT(*) FROM wikidb', engine)"
   ]
  },
  {
   "cell_type": "code",
   "execution_count": null,
   "metadata": {},
   "outputs": [],
   "source": []
  }
 ],
 "metadata": {
  "kernelspec": {
   "display_name": "Python 3",
   "language": "python",
   "name": "python3"
  },
  "language_info": {
   "codemirror_mode": {
    "name": "ipython",
    "version": 3
   },
   "file_extension": ".py",
   "mimetype": "text/x-python",
   "name": "python",
   "nbconvert_exporter": "python",
   "pygments_lexer": "ipython3",
   "version": "3.6.4"
  }
 },
 "nbformat": 4,
 "nbformat_minor": 2
}
